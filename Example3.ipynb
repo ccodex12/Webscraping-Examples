{
 "cells": [
  {
   "cell_type": "code",
   "execution_count": 1,
   "metadata": {},
   "outputs": [],
   "source": [
    "from bs4 import BeautifulSoup"
   ]
  },
  {
   "cell_type": "code",
   "execution_count": 2,
   "metadata": {},
   "outputs": [],
   "source": [
    "with open(r\"C:\\Users\\Asus\\OneDrive\\Dataset\\web_scraping_example.html\", 'r') as file1:\n",
    "    soup = BeautifulSoup(file1, 'html.parser')"
   ]
  },
  {
   "cell_type": "code",
   "execution_count": 8,
   "metadata": {},
   "outputs": [],
   "source": [
    "file1 = '''\n",
    "<html>\n",
    " <body>\n",
    " <div class=\"oraganization\">\n",
    " <ul id=\"HR\">\n",
    " <li class=\"HRmanager\">\n",
    " <div class=\"name\">Jack</div>\n",
    " <div class=\"ID\">101</div>\n",
    " </li>\n",
    " <li class=\"HRmanager\">\n",
    " <div class=\"name\">Daren</div>\n",
    " <div class=\"ID\">65</div>\n",
    " </li>\n",
    " </ul>\n",
    " <ul id=\"IT\">\n",
    " <li class=\"ITmanager\">\n",
    " <div class=\"name\">Morris</div>\n",
    " <div class=\"ID\">39</div>\n",
    " </li>\n",
    " <li class=\"ITmanager\">\n",
    " <div class=\"name\">Jane</div>\n",
    " <div class=\"ID\">11</div>\n",
    " </li>\n",
    " </ul>\n",
    " <ul id=\"Finance\">\n",
    " <li class=\"accountmanager\">\n",
    " <div class=\"name\">Tom</div>\n",
    " <div class=\"ID\">22</div>\n",
    " </li>\n",
    " <li class=\"accountmanager\">\n",
    " <div class=\"name\">Kelly</div>\n",
    " <div class=\"ID\">95</div>\n",
    " </li>\n",
    " </ul>\n",
    " </div>\n",
    " </body>\n",
    " </html>\n",
    "'''\n"
   ]
  },
  {
   "cell_type": "code",
   "execution_count": 6,
   "metadata": {},
   "outputs": [
    {
     "data": {
      "text/plain": [
       "[<html>\n",
       " <body>\n",
       " <div class=\"oraganization\">\n",
       " <ul id=\"HR\">\n",
       " <li class=\"HRmanager\">\n",
       " <div class=\"name\">Jack</div>\n",
       " <div class=\"ID\">101</div>\n",
       " </li>\n",
       " <li class=\"HRmanager\">\n",
       " <div class=\"name\">Daren</div>\n",
       " <div class=\"ID\">65</div>\n",
       " </li>\n",
       " </ul>\n",
       " <ul id=\"IT\">\n",
       " <li class=\"ITmanager\">\n",
       " <div class=\"name\">Morris</div>\n",
       " <div class=\"ID\">39</div>\n",
       " </li>\n",
       " <li class=\"ITmanager\">\n",
       " <div class=\"name\">Jane</div>\n",
       " <div class=\"ID\">11</div>\n",
       " </li>\n",
       " </ul>\n",
       " <ul id=\"Finance\">\n",
       " <li class=\"accountmanager\">\n",
       " <div class=\"name\">Tom</div>\n",
       " <div class=\"ID\">22</div>\n",
       " </li>\n",
       " <li class=\"accountmanager\">\n",
       " <div class=\"name\">Kelly</div>\n",
       " <div class=\"ID\">95</div>\n",
       " </li>\n",
       " </ul>\n",
       " </div>\n",
       " </body>\n",
       " </html>]"
      ]
     },
     "execution_count": 6,
     "metadata": {},
     "output_type": "execute_result"
    }
   ],
   "source": [
    "soup.contents"
   ]
  },
  {
   "cell_type": "code",
   "execution_count": 4,
   "metadata": {},
   "outputs": [
    {
     "name": "stdout",
     "output_type": "stream",
     "text": [
      "\n",
      "\n",
      "\n",
      "\n",
      "\n",
      "Jack\n",
      "101\n",
      "\n",
      "\n",
      "Daren\n",
      "65\n",
      "\n",
      "\n",
      "\n",
      "\n",
      "Morris\n",
      "39\n",
      "\n",
      "\n",
      "Jane\n",
      "11\n",
      "\n",
      "\n",
      "\n",
      "\n",
      "Tom\n",
      "22\n",
      "\n",
      "\n",
      "Kelly\n",
      "95\n",
      "\n",
      "\n",
      "\n",
      "\n",
      "\n"
     ]
    }
   ],
   "source": [
    "print(soup.get_text())"
   ]
  },
  {
   "cell_type": "code",
   "execution_count": 5,
   "metadata": {},
   "outputs": [],
   "source": [
    "from bs4 import SoupStrainer"
   ]
  },
  {
   "cell_type": "code",
   "execution_count": 7,
   "metadata": {},
   "outputs": [],
   "source": [
    "tags_With_id_it = SoupStrainer(id='IT')"
   ]
  },
  {
   "cell_type": "code",
   "execution_count": 10,
   "metadata": {},
   "outputs": [
    {
     "data": {
      "text/plain": [
       "<bs4.element.SoupStrainer at 0x25fbd695bb0>"
      ]
     },
     "execution_count": 10,
     "metadata": {},
     "output_type": "execute_result"
    }
   ],
   "source": [
    "tags_With_id_it"
   ]
  },
  {
   "cell_type": "code",
   "execution_count": 12,
   "metadata": {},
   "outputs": [
    {
     "name": "stdout",
     "output_type": "stream",
     "text": [
      "<ul id=\"IT\">\n",
      " <li class=\"ITmanager\">\n",
      "  <div class=\"name\">\n",
      "   Morris\n",
      "  </div>\n",
      "  <div class=\"ID\">\n",
      "   39\n",
      "  </div>\n",
      " </li>\n",
      " <li class=\"ITmanager\">\n",
      "  <div class=\"name\">\n",
      "   Jane\n",
      "  </div>\n",
      "  <div class=\"ID\">\n",
      "   11\n",
      "  </div>\n",
      " </li>\n",
      "</ul>\n"
     ]
    }
   ],
   "source": [
    "print(BeautifulSoup(file1, 'html.parser', parse_only=tags_With_id_it).prettify())"
   ]
  },
  {
   "cell_type": "code",
   "execution_count": null,
   "metadata": {},
   "outputs": [],
   "source": []
  }
 ],
 "metadata": {
  "interpreter": {
   "hash": "52d90d3cc821dd0beedd6e719dbdecc722c226b9d90ed1b663c34e1877f1142e"
  },
  "kernelspec": {
   "display_name": "Python 3.8.8 ('base')",
   "language": "python",
   "name": "python3"
  },
  "language_info": {
   "codemirror_mode": {
    "name": "ipython",
    "version": 3
   },
   "file_extension": ".py",
   "mimetype": "text/x-python",
   "name": "python",
   "nbconvert_exporter": "python",
   "pygments_lexer": "ipython3",
   "version": "3.8.8"
  },
  "orig_nbformat": 4
 },
 "nbformat": 4,
 "nbformat_minor": 2
}
