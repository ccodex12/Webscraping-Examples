{
 "cells": [
  {
   "cell_type": "code",
   "execution_count": 1,
   "metadata": {},
   "outputs": [],
   "source": [
    "from bs4 import BeautifulSoup\n",
    "with open(r\"C:\\Users\\Asus\\OneDrive\\Dataset\\web_scraping_example.html\", 'r') as file1:\n",
    "    soup = BeautifulSoup(file1, 'html.parser')"
   ]
  },
  {
   "cell_type": "code",
   "execution_count": 2,
   "metadata": {},
   "outputs": [
    {
     "data": {
      "text/plain": [
       "[<html>\n",
       " <body>\n",
       " <div class=\"oraganization\">\n",
       " <ul id=\"HR\">\n",
       " <li class=\"HRmanager\">\n",
       " <div class=\"name\">Jack</div>\n",
       " <div class=\"ID\">101</div>\n",
       " </li>\n",
       " <li class=\"HRmanager\">\n",
       " <div class=\"name\">Daren</div>\n",
       " <div class=\"ID\">65</div>\n",
       " </li>\n",
       " </ul>\n",
       " <ul id=\"IT\">\n",
       " <li class=\"ITmanager\">\n",
       " <div class=\"name\">Morris</div>\n",
       " <div class=\"ID\">39</div>\n",
       " </li>\n",
       " <li class=\"ITmanager\">\n",
       " <div class=\"name\">Jane</div>\n",
       " <div class=\"ID\">11</div>\n",
       " </li>\n",
       " </ul>\n",
       " <ul id=\"Finance\">\n",
       " <li class=\"accountmanager\">\n",
       " <div class=\"name\">Tom</div>\n",
       " <div class=\"ID\">22</div>\n",
       " </li>\n",
       " <li class=\"accountmanager\">\n",
       " <div class=\"name\">Kelly</div>\n",
       " <div class=\"ID\">95</div>\n",
       " </li>\n",
       " </ul>\n",
       " </div>\n",
       " </body>\n",
       " </html>]"
      ]
     },
     "execution_count": 2,
     "metadata": {},
     "output_type": "execute_result"
    }
   ],
   "source": [
    "soup.contents"
   ]
  },
  {
   "cell_type": "code",
   "execution_count": 3,
   "metadata": {},
   "outputs": [],
   "source": [
    "tag = soup.find(class_='HRmanager')"
   ]
  },
  {
   "cell_type": "code",
   "execution_count": 12,
   "metadata": {},
   "outputs": [
    {
     "data": {
      "text/plain": [
       "<li class=\"HRmanager\">\n",
       "<div class=\"f_name\">Jack</div>\n",
       "<div class=\"ID\">101</div>\n",
       "</li>"
      ]
     },
     "execution_count": 12,
     "metadata": {},
     "output_type": "execute_result"
    }
   ],
   "source": [
    "tag"
   ]
  },
  {
   "cell_type": "code",
   "execution_count": 13,
   "metadata": {},
   "outputs": [],
   "source": [
    "t1 = tag.find('div')"
   ]
  },
  {
   "cell_type": "code",
   "execution_count": 9,
   "metadata": {},
   "outputs": [],
   "source": [
    "t1['class'] = 'f_name'"
   ]
  },
  {
   "cell_type": "code",
   "execution_count": 10,
   "metadata": {},
   "outputs": [
    {
     "data": {
      "text/plain": [
       "<div class=\"f_name\">Jack</div>"
      ]
     },
     "execution_count": 10,
     "metadata": {},
     "output_type": "execute_result"
    }
   ],
   "source": [
    "t1"
   ]
  },
  {
   "cell_type": "code",
   "execution_count": 11,
   "metadata": {},
   "outputs": [
    {
     "data": {
      "text/plain": [
       "<html>\n",
       "<body>\n",
       "<div class=\"oraganization\">\n",
       "<ul id=\"HR\">\n",
       "<li class=\"HRmanager\">\n",
       "<div class=\"f_name\">Jack</div>\n",
       "<div class=\"ID\">101</div>\n",
       "</li>\n",
       "<li class=\"HRmanager\">\n",
       "<div class=\"name\">Daren</div>\n",
       "<div class=\"ID\">65</div>\n",
       "</li>\n",
       "</ul>\n",
       "<ul id=\"IT\">\n",
       "<li class=\"ITmanager\">\n",
       "<div class=\"name\">Morris</div>\n",
       "<div class=\"ID\">39</div>\n",
       "</li>\n",
       "<li class=\"ITmanager\">\n",
       "<div class=\"name\">Jane</div>\n",
       "<div class=\"ID\">11</div>\n",
       "</li>\n",
       "</ul>\n",
       "<ul id=\"Finance\">\n",
       "<li class=\"accountmanager\">\n",
       "<div class=\"name\">Tom</div>\n",
       "<div class=\"ID\">22</div>\n",
       "</li>\n",
       "<li class=\"accountmanager\">\n",
       "<div class=\"name\">Kelly</div>\n",
       "<div class=\"ID\">95</div>\n",
       "</li>\n",
       "</ul>\n",
       "</div>\n",
       "</body>\n",
       "</html>"
      ]
     },
     "execution_count": 11,
     "metadata": {},
     "output_type": "execute_result"
    }
   ],
   "source": [
    "soup"
   ]
  },
  {
   "cell_type": "code",
   "execution_count": 16,
   "metadata": {},
   "outputs": [],
   "source": [
    "tag1 = soup.new_tag('rank')\n",
    "tag1.string = 'Manager2'\n",
    "soup.body.insert_after(tag1)"
   ]
  },
  {
   "cell_type": "code",
   "execution_count": 17,
   "metadata": {},
   "outputs": [
    {
     "data": {
      "text/plain": [
       "<html>\n",
       "<body>\n",
       "<div class=\"oraganization\">\n",
       "<ul id=\"HR\">\n",
       "<li class=\"HRmanager\">\n",
       "<div class=\"f_name\">Jack</div><rank>Manager2</rank>\n",
       "<div class=\"ID\">101</div>\n",
       "</li>\n",
       "<li class=\"HRmanager\">\n",
       "<div class=\"name\">Daren</div>\n",
       "<div class=\"ID\">65</div>\n",
       "</li>\n",
       "</ul>\n",
       "<ul id=\"IT\">\n",
       "<li class=\"ITmanager\">\n",
       "<div class=\"name\">Morris</div>\n",
       "<div class=\"ID\">39</div>\n",
       "</li>\n",
       "<li class=\"ITmanager\">\n",
       "<div class=\"name\">Jane</div>\n",
       "<div class=\"ID\">11</div>\n",
       "</li>\n",
       "</ul>\n",
       "<ul id=\"Finance\">\n",
       "<li class=\"accountmanager\">\n",
       "<div class=\"name\">Tom</div>\n",
       "<div class=\"ID\">22</div>\n",
       "</li>\n",
       "<li class=\"accountmanager\">\n",
       "<div class=\"name\">Kelly</div>\n",
       "<div class=\"ID\">95</div>\n",
       "</li>\n",
       "</ul>\n",
       "</div>\n",
       "</body><rank>Manager2</rank>\n",
       "</html>"
      ]
     },
     "execution_count": 17,
     "metadata": {},
     "output_type": "execute_result"
    }
   ],
   "source": [
    "soup"
   ]
  },
  {
   "cell_type": "code",
   "execution_count": 18,
   "metadata": {},
   "outputs": [],
   "source": [
    "tag1.clear()"
   ]
  },
  {
   "cell_type": "code",
   "execution_count": 19,
   "metadata": {},
   "outputs": [
    {
     "data": {
      "text/plain": [
       "<html>\n",
       "<body>\n",
       "<div class=\"oraganization\">\n",
       "<ul id=\"HR\">\n",
       "<li class=\"HRmanager\">\n",
       "<div class=\"f_name\">Jack</div><rank>Manager2</rank>\n",
       "<div class=\"ID\">101</div>\n",
       "</li>\n",
       "<li class=\"HRmanager\">\n",
       "<div class=\"name\">Daren</div>\n",
       "<div class=\"ID\">65</div>\n",
       "</li>\n",
       "</ul>\n",
       "<ul id=\"IT\">\n",
       "<li class=\"ITmanager\">\n",
       "<div class=\"name\">Morris</div>\n",
       "<div class=\"ID\">39</div>\n",
       "</li>\n",
       "<li class=\"ITmanager\">\n",
       "<div class=\"name\">Jane</div>\n",
       "<div class=\"ID\">11</div>\n",
       "</li>\n",
       "</ul>\n",
       "<ul id=\"Finance\">\n",
       "<li class=\"accountmanager\">\n",
       "<div class=\"name\">Tom</div>\n",
       "<div class=\"ID\">22</div>\n",
       "</li>\n",
       "<li class=\"accountmanager\">\n",
       "<div class=\"name\">Kelly</div>\n",
       "<div class=\"ID\">95</div>\n",
       "</li>\n",
       "</ul>\n",
       "</div>\n",
       "</body><rank></rank>\n",
       "</html>"
      ]
     },
     "execution_count": 19,
     "metadata": {},
     "output_type": "execute_result"
    }
   ],
   "source": [
    "soup"
   ]
  },
  {
   "cell_type": "code",
   "execution_count": 21,
   "metadata": {},
   "outputs": [
    {
     "data": {
      "text/plain": [
       "'Jack'"
      ]
     },
     "execution_count": 21,
     "metadata": {},
     "output_type": "execute_result"
    }
   ],
   "source": [
    "t1.string.extract()"
   ]
  },
  {
   "cell_type": "code",
   "execution_count": 27,
   "metadata": {},
   "outputs": [
    {
     "data": {
      "text/plain": [
       "<div class=\"f_name\"></div>"
      ]
     },
     "execution_count": 27,
     "metadata": {},
     "output_type": "execute_result"
    }
   ],
   "source": [
    "t1.replace_with('Cena')"
   ]
  },
  {
   "cell_type": "code",
   "execution_count": 28,
   "metadata": {},
   "outputs": [
    {
     "data": {
      "text/plain": [
       "<html>\n",
       "<body>\n",
       "<div class=\"oraganization\">\n",
       "<ul id=\"HR\">\n",
       "<li class=\"HRmanager\">\n",
       "Cena<rank>Manager2</rank>\n",
       "<div class=\"ID\">101</div>\n",
       "</li>\n",
       "<li class=\"HRmanager\">\n",
       "<div class=\"name\">Daren</div>\n",
       "<div class=\"ID\">65</div>\n",
       "</li>\n",
       "</ul>\n",
       "<ul id=\"IT\">\n",
       "<li class=\"ITmanager\">\n",
       "<div class=\"name\">Morris</div>\n",
       "<div class=\"ID\">39</div>\n",
       "</li>\n",
       "<li class=\"ITmanager\">\n",
       "<div class=\"name\">Jane</div>\n",
       "<div class=\"ID\">11</div>\n",
       "</li>\n",
       "</ul>\n",
       "<ul id=\"Finance\">\n",
       "<li class=\"accountmanager\">\n",
       "<div class=\"name\">Tom</div>\n",
       "<div class=\"ID\">22</div>\n",
       "</li>\n",
       "<li class=\"accountmanager\">\n",
       "<div class=\"name\">Kelly</div>\n",
       "<div class=\"ID\">95</div>\n",
       "</li>\n",
       "</ul>\n",
       "</div>\n",
       "</body><rank></rank>\n",
       "</html>"
      ]
     },
     "execution_count": 28,
     "metadata": {},
     "output_type": "execute_result"
    }
   ],
   "source": [
    "soup"
   ]
  },
  {
   "cell_type": "code",
   "execution_count": null,
   "metadata": {},
   "outputs": [],
   "source": []
  }
 ],
 "metadata": {
  "interpreter": {
   "hash": "52d90d3cc821dd0beedd6e719dbdecc722c226b9d90ed1b663c34e1877f1142e"
  },
  "kernelspec": {
   "display_name": "Python 3.8.8 ('base')",
   "language": "python",
   "name": "python3"
  },
  "language_info": {
   "codemirror_mode": {
    "name": "ipython",
    "version": 3
   },
   "file_extension": ".py",
   "mimetype": "text/x-python",
   "name": "python",
   "nbconvert_exporter": "python",
   "pygments_lexer": "ipython3",
   "version": "3.8.8"
  },
  "orig_nbformat": 4
 },
 "nbformat": 4,
 "nbformat_minor": 2
}
