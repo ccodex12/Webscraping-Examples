{
 "cells": [
  {
   "cell_type": "code",
   "execution_count": 2,
   "metadata": {},
   "outputs": [],
   "source": [
    "from bs4 import BeautifulSoup"
   ]
  },
  {
   "cell_type": "code",
   "execution_count": 3,
   "metadata": {},
   "outputs": [],
   "source": [
    "with open(r\"C:\\Users\\Asus\\OneDrive\\Dataset\\web_scraping_example.html\", 'r') as file1:\n",
    "    soup = BeautifulSoup(file1, 'html.parser')"
   ]
  },
  {
   "cell_type": "code",
   "execution_count": 4,
   "metadata": {},
   "outputs": [
    {
     "data": {
      "text/plain": [
       "[<html>\n",
       " <body>\n",
       " <div class=\"oraganization\">\n",
       " <ul id=\"HR\">\n",
       " <li class=\"HRmanager\">\n",
       " <div class=\"name\">Jack</div>\n",
       " <div class=\"ID\">101</div>\n",
       " </li>\n",
       " <li class=\"HRmanager\">\n",
       " <div class=\"name\">Daren</div>\n",
       " <div class=\"ID\">65</div>\n",
       " </li>\n",
       " </ul>\n",
       " <ul id=\"IT\">\n",
       " <li class=\"ITmanager\">\n",
       " <div class=\"name\">Morris</div>\n",
       " <div class=\"ID\">39</div>\n",
       " </li>\n",
       " <li class=\"ITmanager\">\n",
       " <div class=\"name\">Jane</div>\n",
       " <div class=\"ID\">11</div>\n",
       " </li>\n",
       " </ul>\n",
       " <ul id=\"Finance\">\n",
       " <li class=\"accountmanager\">\n",
       " <div class=\"name\">Tom</div>\n",
       " <div class=\"ID\">22</div>\n",
       " </li>\n",
       " <li class=\"accountmanager\">\n",
       " <div class=\"name\">Kelly</div>\n",
       " <div class=\"ID\">95</div>\n",
       " </li>\n",
       " </ul>\n",
       " </div>\n",
       " </body>\n",
       " </html>]"
      ]
     },
     "execution_count": 4,
     "metadata": {},
     "output_type": "execute_result"
    }
   ],
   "source": [
    "soup.contents"
   ]
  },
  {
   "cell_type": "code",
   "execution_count": 5,
   "metadata": {},
   "outputs": [],
   "source": [
    "tag_li = soup.find('li')"
   ]
  },
  {
   "cell_type": "code",
   "execution_count": 6,
   "metadata": {},
   "outputs": [
    {
     "data": {
      "text/plain": [
       "(<li class=\"HRmanager\">\n",
       " <div class=\"name\">Jack</div>\n",
       " <div class=\"ID\">101</div>\n",
       " </li>,\n",
       " bs4.element.Tag)"
      ]
     },
     "execution_count": 6,
     "metadata": {},
     "output_type": "execute_result"
    }
   ],
   "source": [
    "tag_li, type(tag_li)"
   ]
  },
  {
   "cell_type": "code",
   "execution_count": 7,
   "metadata": {},
   "outputs": [],
   "source": [
    "find_id = soup.find(id='HR')"
   ]
  },
  {
   "cell_type": "code",
   "execution_count": 8,
   "metadata": {},
   "outputs": [
    {
     "data": {
      "text/plain": [
       "(<ul id=\"HR\">\n",
       " <li class=\"HRmanager\">\n",
       " <div class=\"name\">Jack</div>\n",
       " <div class=\"ID\">101</div>\n",
       " </li>\n",
       " <li class=\"HRmanager\">\n",
       " <div class=\"name\">Daren</div>\n",
       " <div class=\"ID\">65</div>\n",
       " </li>\n",
       " </ul>,\n",
       " bs4.element.Tag)"
      ]
     },
     "execution_count": 8,
     "metadata": {},
     "output_type": "execute_result"
    }
   ],
   "source": [
    "find_id, type(find_id)"
   ]
  },
  {
   "cell_type": "code",
   "execution_count": 9,
   "metadata": {},
   "outputs": [
    {
     "data": {
      "text/plain": [
       "'Jack'"
      ]
     },
     "execution_count": 9,
     "metadata": {},
     "output_type": "execute_result"
    }
   ],
   "source": [
    "find_id.li.div.string"
   ]
  },
  {
   "cell_type": "code",
   "execution_count": 12,
   "metadata": {},
   "outputs": [],
   "source": [
    "search_Strings = soup.find_all(text = ['Jack', 'Daren'])"
   ]
  },
  {
   "cell_type": "code",
   "execution_count": 13,
   "metadata": {},
   "outputs": [
    {
     "data": {
      "text/plain": [
       "['Jack', 'Daren']"
      ]
     },
     "execution_count": 13,
     "metadata": {},
     "output_type": "execute_result"
    }
   ],
   "source": [
    "search_Strings"
   ]
  },
  {
   "cell_type": "code",
   "execution_count": 16,
   "metadata": {},
   "outputs": [],
   "source": [
    "css_class_Search = soup.find(attrs = {'class':'HRmanager'})"
   ]
  },
  {
   "cell_type": "code",
   "execution_count": 22,
   "metadata": {},
   "outputs": [
    {
     "data": {
      "text/plain": [
       "<li class=\"HRmanager\">\n",
       "<div class=\"name\">Jack</div>\n",
       "<div class=\"ID\">101</div>\n",
       "</li>"
      ]
     },
     "execution_count": 22,
     "metadata": {},
     "output_type": "execute_result"
    }
   ],
   "source": [
    "soup.find(class_='HRmanager')"
   ]
  },
  {
   "cell_type": "code",
   "execution_count": 17,
   "metadata": {},
   "outputs": [
    {
     "data": {
      "text/plain": [
       "<li class=\"HRmanager\">\n",
       "<div class=\"name\">Jack</div>\n",
       "<div class=\"ID\">101</div>\n",
       "</li>"
      ]
     },
     "execution_count": 17,
     "metadata": {},
     "output_type": "execute_result"
    }
   ],
   "source": [
    "css_class_Search"
   ]
  },
  {
   "cell_type": "code",
   "execution_count": 19,
   "metadata": {},
   "outputs": [
    {
     "data": {
      "text/plain": [
       "{'class': ['HRmanager']}"
      ]
     },
     "execution_count": 19,
     "metadata": {},
     "output_type": "execute_result"
    }
   ],
   "source": [
    "soup.li.attrs"
   ]
  },
  {
   "cell_type": "code",
   "execution_count": 20,
   "metadata": {},
   "outputs": [
    {
     "name": "stdout",
     "output_type": "stream",
     "text": [
      "html\n",
      "body\n",
      "div\n",
      "ul\n",
      "li\n",
      "div\n",
      "div\n",
      "li\n",
      "div\n",
      "div\n",
      "ul\n",
      "li\n",
      "div\n",
      "div\n",
      "li\n",
      "div\n",
      "div\n",
      "ul\n",
      "li\n",
      "div\n",
      "div\n",
      "li\n",
      "div\n",
      "div\n"
     ]
    }
   ],
   "source": [
    "for tag in soup.find_all(True):\n",
    "    print(tag.name)"
   ]
  },
  {
   "cell_type": "code",
   "execution_count": 28,
   "metadata": {},
   "outputs": [],
   "source": [
    "find_class = soup.find_all(class_='HRmanager')"
   ]
  },
  {
   "cell_type": "code",
   "execution_count": 31,
   "metadata": {},
   "outputs": [
    {
     "data": {
      "text/plain": [
       "[<ul id=\"HR\">\n",
       " <li class=\"HRmanager\">\n",
       " <div class=\"name\">Jack</div>\n",
       " <div class=\"ID\">101</div>\n",
       " </li>\n",
       " <li class=\"HRmanager\">\n",
       " <div class=\"name\">Daren</div>\n",
       " <div class=\"ID\">65</div>\n",
       " </li>\n",
       " </ul>]"
      ]
     },
     "execution_count": 31,
     "metadata": {},
     "output_type": "execute_result"
    }
   ],
   "source": [
    "class0 = find_class[0]\n",
    "class0.find_parents('ul')"
   ]
  },
  {
   "cell_type": "code",
   "execution_count": 35,
   "metadata": {},
   "outputs": [
    {
     "data": {
      "text/plain": [
       "<ul id=\"IT\">\n",
       "<li class=\"ITmanager\">\n",
       "<div class=\"name\">Morris</div>\n",
       "<div class=\"ID\">39</div>\n",
       "</li>\n",
       "<li class=\"ITmanager\">\n",
       "<div class=\"name\">Jane</div>\n",
       "<div class=\"ID\">11</div>\n",
       "</li>\n",
       "</ul>"
      ]
     },
     "execution_count": 35,
     "metadata": {},
     "output_type": "execute_result"
    }
   ],
   "source": [
    "org = soup.find(id='IT')\n",
    "org"
   ]
  },
  {
   "cell_type": "code",
   "execution_count": 36,
   "metadata": {},
   "outputs": [],
   "source": [
    "next_sib = org.find_next_sibling()"
   ]
  },
  {
   "cell_type": "code",
   "execution_count": 37,
   "metadata": {},
   "outputs": [
    {
     "data": {
      "text/plain": [
       "<ul id=\"Finance\">\n",
       "<li class=\"accountmanager\">\n",
       "<div class=\"name\">Tom</div>\n",
       "<div class=\"ID\">22</div>\n",
       "</li>\n",
       "<li class=\"accountmanager\">\n",
       "<div class=\"name\">Kelly</div>\n",
       "<div class=\"ID\">95</div>\n",
       "</li>\n",
       "</ul>"
      ]
     },
     "execution_count": 37,
     "metadata": {},
     "output_type": "execute_result"
    }
   ],
   "source": [
    "next_sib"
   ]
  },
  {
   "cell_type": "code",
   "execution_count": 42,
   "metadata": {},
   "outputs": [],
   "source": [
    "parent = org.find_parents"
   ]
  },
  {
   "cell_type": "code",
   "execution_count": 43,
   "metadata": {},
   "outputs": [
    {
     "data": {
      "text/plain": [
       "<bound method PageElement.find_parents of <ul id=\"IT\">\n",
       "<li class=\"ITmanager\">\n",
       "<div class=\"name\">Morris</div>\n",
       "<div class=\"ID\">39</div>\n",
       "</li>\n",
       "<li class=\"ITmanager\">\n",
       "<div class=\"name\">Jane</div>\n",
       "<div class=\"ID\">11</div>\n",
       "</li>\n",
       "</ul>>"
      ]
     },
     "execution_count": 43,
     "metadata": {},
     "output_type": "execute_result"
    }
   ],
   "source": [
    "parent"
   ]
  },
  {
   "cell_type": "code",
   "execution_count": 44,
   "metadata": {},
   "outputs": [
    {
     "data": {
      "text/plain": [
       "[<div class=\"ID\">65</div>,\n",
       " <div class=\"name\">Daren</div>,\n",
       " <li class=\"HRmanager\">\n",
       " <div class=\"name\">Daren</div>\n",
       " <div class=\"ID\">65</div>\n",
       " </li>,\n",
       " <div class=\"ID\">101</div>,\n",
       " <div class=\"name\">Jack</div>,\n",
       " <li class=\"HRmanager\">\n",
       " <div class=\"name\">Jack</div>\n",
       " <div class=\"ID\">101</div>\n",
       " </li>,\n",
       " <ul id=\"HR\">\n",
       " <li class=\"HRmanager\">\n",
       " <div class=\"name\">Jack</div>\n",
       " <div class=\"ID\">101</div>\n",
       " </li>\n",
       " <li class=\"HRmanager\">\n",
       " <div class=\"name\">Daren</div>\n",
       " <div class=\"ID\">65</div>\n",
       " </li>\n",
       " </ul>,\n",
       " <div class=\"oraganization\">\n",
       " <ul id=\"HR\">\n",
       " <li class=\"HRmanager\">\n",
       " <div class=\"name\">Jack</div>\n",
       " <div class=\"ID\">101</div>\n",
       " </li>\n",
       " <li class=\"HRmanager\">\n",
       " <div class=\"name\">Daren</div>\n",
       " <div class=\"ID\">65</div>\n",
       " </li>\n",
       " </ul>\n",
       " <ul id=\"IT\">\n",
       " <li class=\"ITmanager\">\n",
       " <div class=\"name\">Morris</div>\n",
       " <div class=\"ID\">39</div>\n",
       " </li>\n",
       " <li class=\"ITmanager\">\n",
       " <div class=\"name\">Jane</div>\n",
       " <div class=\"ID\">11</div>\n",
       " </li>\n",
       " </ul>\n",
       " <ul id=\"Finance\">\n",
       " <li class=\"accountmanager\">\n",
       " <div class=\"name\">Tom</div>\n",
       " <div class=\"ID\">22</div>\n",
       " </li>\n",
       " <li class=\"accountmanager\">\n",
       " <div class=\"name\">Kelly</div>\n",
       " <div class=\"ID\">95</div>\n",
       " </li>\n",
       " </ul>\n",
       " </div>,\n",
       " <body>\n",
       " <div class=\"oraganization\">\n",
       " <ul id=\"HR\">\n",
       " <li class=\"HRmanager\">\n",
       " <div class=\"name\">Jack</div>\n",
       " <div class=\"ID\">101</div>\n",
       " </li>\n",
       " <li class=\"HRmanager\">\n",
       " <div class=\"name\">Daren</div>\n",
       " <div class=\"ID\">65</div>\n",
       " </li>\n",
       " </ul>\n",
       " <ul id=\"IT\">\n",
       " <li class=\"ITmanager\">\n",
       " <div class=\"name\">Morris</div>\n",
       " <div class=\"ID\">39</div>\n",
       " </li>\n",
       " <li class=\"ITmanager\">\n",
       " <div class=\"name\">Jane</div>\n",
       " <div class=\"ID\">11</div>\n",
       " </li>\n",
       " </ul>\n",
       " <ul id=\"Finance\">\n",
       " <li class=\"accountmanager\">\n",
       " <div class=\"name\">Tom</div>\n",
       " <div class=\"ID\">22</div>\n",
       " </li>\n",
       " <li class=\"accountmanager\">\n",
       " <div class=\"name\">Kelly</div>\n",
       " <div class=\"ID\">95</div>\n",
       " </li>\n",
       " </ul>\n",
       " </div>\n",
       " </body>,\n",
       " <html>\n",
       " <body>\n",
       " <div class=\"oraganization\">\n",
       " <ul id=\"HR\">\n",
       " <li class=\"HRmanager\">\n",
       " <div class=\"name\">Jack</div>\n",
       " <div class=\"ID\">101</div>\n",
       " </li>\n",
       " <li class=\"HRmanager\">\n",
       " <div class=\"name\">Daren</div>\n",
       " <div class=\"ID\">65</div>\n",
       " </li>\n",
       " </ul>\n",
       " <ul id=\"IT\">\n",
       " <li class=\"ITmanager\">\n",
       " <div class=\"name\">Morris</div>\n",
       " <div class=\"ID\">39</div>\n",
       " </li>\n",
       " <li class=\"ITmanager\">\n",
       " <div class=\"name\">Jane</div>\n",
       " <div class=\"ID\">11</div>\n",
       " </li>\n",
       " </ul>\n",
       " <ul id=\"Finance\">\n",
       " <li class=\"accountmanager\">\n",
       " <div class=\"name\">Tom</div>\n",
       " <div class=\"ID\">22</div>\n",
       " </li>\n",
       " <li class=\"accountmanager\">\n",
       " <div class=\"name\">Kelly</div>\n",
       " <div class=\"ID\">95</div>\n",
       " </li>\n",
       " </ul>\n",
       " </div>\n",
       " </body>\n",
       " </html>]"
      ]
     },
     "execution_count": 44,
     "metadata": {},
     "output_type": "execute_result"
    }
   ],
   "source": [
    "org.find_all_previous()"
   ]
  },
  {
   "cell_type": "code",
   "execution_count": 45,
   "metadata": {},
   "outputs": [
    {
     "data": {
      "text/plain": [
       "[<ul id=\"IT\">\n",
       " <li class=\"ITmanager\">\n",
       " <div class=\"name\">Morris</div>\n",
       " <div class=\"ID\">39</div>\n",
       " </li>\n",
       " <li class=\"ITmanager\">\n",
       " <div class=\"name\">Jane</div>\n",
       " <div class=\"ID\">11</div>\n",
       " </li>\n",
       " </ul>,\n",
       " <li class=\"ITmanager\">\n",
       " <div class=\"name\">Morris</div>\n",
       " <div class=\"ID\">39</div>\n",
       " </li>,\n",
       " <div class=\"name\">Morris</div>,\n",
       " <div class=\"ID\">39</div>,\n",
       " <li class=\"ITmanager\">\n",
       " <div class=\"name\">Jane</div>\n",
       " <div class=\"ID\">11</div>\n",
       " </li>,\n",
       " <div class=\"name\">Jane</div>,\n",
       " <div class=\"ID\">11</div>,\n",
       " <ul id=\"Finance\">\n",
       " <li class=\"accountmanager\">\n",
       " <div class=\"name\">Tom</div>\n",
       " <div class=\"ID\">22</div>\n",
       " </li>\n",
       " <li class=\"accountmanager\">\n",
       " <div class=\"name\">Kelly</div>\n",
       " <div class=\"ID\">95</div>\n",
       " </li>\n",
       " </ul>,\n",
       " <li class=\"accountmanager\">\n",
       " <div class=\"name\">Tom</div>\n",
       " <div class=\"ID\">22</div>\n",
       " </li>,\n",
       " <div class=\"name\">Tom</div>,\n",
       " <div class=\"ID\">22</div>,\n",
       " <li class=\"accountmanager\">\n",
       " <div class=\"name\">Kelly</div>\n",
       " <div class=\"ID\">95</div>\n",
       " </li>,\n",
       " <div class=\"name\">Kelly</div>,\n",
       " <div class=\"ID\">95</div>]"
      ]
     },
     "execution_count": 45,
     "metadata": {},
     "output_type": "execute_result"
    }
   ],
   "source": [
    "org.find_previous().find_all_next()"
   ]
  },
  {
   "cell_type": "code",
   "execution_count": 47,
   "metadata": {},
   "outputs": [
    {
     "data": {
      "text/plain": [
       "['ab@bc.cm']"
      ]
     },
     "execution_count": 47,
     "metadata": {},
     "output_type": "execute_result"
    }
   ],
   "source": [
    "import re\n",
    "ex = '<p>ab@bc.cm</p>'\n",
    "s1 = BeautifulSoup(ex, 'lxml')\n",
    "reg = re.compile('\\w+@\\w+\\.\\w+')\n",
    "emails = s1.find_all(text=reg)\n",
    "emails"
   ]
  },
  {
   "cell_type": "code",
   "execution_count": null,
   "metadata": {},
   "outputs": [],
   "source": []
  }
 ],
 "metadata": {
  "interpreter": {
   "hash": "52d90d3cc821dd0beedd6e719dbdecc722c226b9d90ed1b663c34e1877f1142e"
  },
  "kernelspec": {
   "display_name": "Python 3.8.8 ('base')",
   "language": "python",
   "name": "python3"
  },
  "language_info": {
   "codemirror_mode": {
    "name": "ipython",
    "version": 3
   },
   "file_extension": ".py",
   "mimetype": "text/x-python",
   "name": "python",
   "nbconvert_exporter": "python",
   "pygments_lexer": "ipython3",
   "version": "3.8.8"
  },
  "orig_nbformat": 4
 },
 "nbformat": 4,
 "nbformat_minor": 2
}
